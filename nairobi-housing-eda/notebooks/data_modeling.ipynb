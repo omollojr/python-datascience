{
 "cells": [
  {
   "cell_type": "markdown",
   "id": "18df8f23",
   "metadata": {},
   "source": [
    "## 2D Data modelling\n",
    "I am going to work on a ml model to predict prices using  neighborhood, location and size of our houses and the type of houses is apartments"
   ]
  },
  {
   "cell_type": "code",
   "execution_count": null,
   "id": "64bc0e4e",
   "metadata": {},
   "outputs": [],
   "source": [
    "# Importing our varibales\n",
    "import matplotlib.pyplot as plt\n",
    "import pandas as pd\n",
    "import plotly.express as px\n",
    "# Machine learning: regression model + metrics\n",
    "from sklearn.linear_model import LinearRegression, Ridge \n",
    "from sklearn.metrics import mean_absolute_error\n",
    "from sklearn.utils.validation import check_X_y, check_is_fitted \n",
    "\n",
    "print(\"All requirements satisfied!\")"
   ]
  },
  {
   "cell_type": "markdown",
   "id": "d61fa7d1",
   "metadata": {},
   "source": [
    "## Preparing our data\n",
    "Importing"
   ]
  },
  {
   "cell_type": "code",
   "execution_count": null,
   "id": "be75ad71",
   "metadata": {},
   "outputs": [],
   "source": [
    "#"
   ]
  }
 ],
 "metadata": {
  "kernelspec": {
   "display_name": "venv",
   "language": "python",
   "name": "python3"
  },
  "language_info": {
   "codemirror_mode": {
    "name": "ipython",
    "version": 3
   },
   "file_extension": ".py",
   "mimetype": "text/x-python",
   "name": "python",
   "nbconvert_exporter": "python",
   "pygments_lexer": "ipython3",
   "version": "3.12.4"
  }
 },
 "nbformat": 4,
 "nbformat_minor": 5
}
